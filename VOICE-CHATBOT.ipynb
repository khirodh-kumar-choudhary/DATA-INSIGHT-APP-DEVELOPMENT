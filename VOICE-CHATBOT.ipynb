{
 "cells": [
  {
   "cell_type": "markdown",
   "id": "fc1cce6e",
   "metadata": {},
   "source": [
    "REFERENCE : https://nitinkchauhan.medium.com/create-a-voice-chatbot-in-python-using-nltk-speech-recognition-google-text-to-speech-445468c083f8"
   ]
  },
  {
   "cell_type": "code",
   "execution_count": 1,
   "id": "621def8c",
   "metadata": {},
   "outputs": [],
   "source": [
    "import io\n",
    "import os\n",
    "import random\n",
    "import string\n",
    "import random\n",
    "import datetime\n",
    "import warnings\n",
    "import wikipedia\n",
    "import webbrowser\n",
    "import numpy as np"
   ]
  },
  {
   "cell_type": "code",
   "execution_count": 2,
   "id": "e8ec2e89",
   "metadata": {},
   "outputs": [
    {
     "name": "stdout",
     "output_type": "stream",
     "text": [
      "pygame 2.1.2 (SDL 2.0.18, Python 3.9.7)\n",
      "Hello from the pygame community. https://www.pygame.org/contribute.html\n"
     ]
    }
   ],
   "source": [
    "import pyaudio as py\n",
    "import pyttsx3 as pt\n",
    "from pygame import mixer\n",
    "from gtts import gTTS"
   ]
  },
  {
   "cell_type": "code",
   "execution_count": 3,
   "id": "bc1dd3b0",
   "metadata": {},
   "outputs": [],
   "source": [
    "import speech_recognition as sr\n",
    "warnings.filterwarnings('ignore')"
   ]
  },
  {
   "cell_type": "code",
   "execution_count": 4,
   "id": "2a0d25c2",
   "metadata": {},
   "outputs": [],
   "source": [
    "from sklearn.feature_extraction.text import TfidfVectorizer\n",
    "from sklearn.metrics.pairwise import cosine_similarity"
   ]
  },
  {
   "cell_type": "code",
   "execution_count": 5,
   "id": "5932b2ec",
   "metadata": {},
   "outputs": [],
   "source": [
    "import nltk\n",
    "from nltk.stem import WordNetLemmatizer"
   ]
  },
  {
   "cell_type": "code",
   "execution_count": 6,
   "id": "8ed917be",
   "metadata": {},
   "outputs": [
    {
     "name": "stderr",
     "output_type": "stream",
     "text": [
      "[nltk_data] Error loading popular: <urlopen error [WinError 10060] A\n",
      "[nltk_data]     connection attempt failed because the connected party\n",
      "[nltk_data]     did not properly respond after a period of time, or\n",
      "[nltk_data]     established connection failed because connected host\n",
      "[nltk_data]     has failed to respond>\n",
      "[nltk_data] Error loading nps_chat: <urlopen error [WinError 10060] A\n",
      "[nltk_data]     connection attempt failed because the connected party\n",
      "[nltk_data]     did not properly respond after a period of time, or\n",
      "[nltk_data]     established connection failed because connected host\n",
      "[nltk_data]     has failed to respond>\n",
      "[nltk_data] Error loading punkt: <urlopen error [WinError 10060] A\n",
      "[nltk_data]     connection attempt failed because the connected party\n",
      "[nltk_data]     did not properly respond after a period of time, or\n",
      "[nltk_data]     established connection failed because connected host\n",
      "[nltk_data]     has failed to respond>\n",
      "[nltk_data] Error loading wordnet: <urlopen error [WinError 10060] A\n",
      "[nltk_data]     connection attempt failed because the connected party\n",
      "[nltk_data]     did not properly respond after a period of time, or\n",
      "[nltk_data]     established connection failed because connected host\n",
      "[nltk_data]     has failed to respond>\n"
     ]
    },
    {
     "data": {
      "text/plain": [
       "False"
      ]
     },
     "execution_count": 6,
     "metadata": {},
     "output_type": "execute_result"
    }
   ],
   "source": [
    "nltk.download('popular', quiet=True)\n",
    "nltk.download('nps_chat',quiet=True)\n",
    "nltk.download('punkt') \n",
    "nltk.download('wordnet')"
   ]
  },
  {
   "cell_type": "code",
   "execution_count": 7,
   "id": "cd5a9549",
   "metadata": {},
   "outputs": [],
   "source": [
    "engine = pt.init()\n",
    "voices = engine.getProperty('voices')\n",
    "engine.setProperty('voice',voices[1].id)\n",
    "volume = engine.getProperty('volume')\n",
    "engine.setProperty('volume',10.0)\n",
    "rate = engine.getProperty('rate')\n",
    "engine.setProperty('rate', rate - 25)"
   ]
  },
  {
   "cell_type": "code",
   "execution_count": 8,
   "id": "7f8e5c53",
   "metadata": {},
   "outputs": [],
   "source": [
    "greetings = ['hey there', 'hello', 'hi', 'Hai', 'hey!', 'hey']\n",
    "question = ['How are you?', 'How are you doing?']\n",
    "responses = ['Okay', \"I'm fine\"]\n",
    "\n",
    "var1 = ['who made you', 'who created you']\n",
    "var2 = ['I_was_created_by_ROSHIT_in_his_Laptop.', 'ROSHIT']\n",
    "var3 = ['what time is it', 'what is the time', 'time']\n",
    "var4 = ['who are you', 'what is you name']\n",
    "\n",
    "cmd1 = ['open browser', 'open google']\n",
    "cmd2 = ['play music', 'play songs', 'play a song', 'open music player']\n",
    "cmd3 = ['tell a joke', 'tell me a joke', 'say something funny', 'tell something funny']\n",
    "cmd4 = ['open youtube', 'i want to watch a video']\n",
    "cmd5 = ['tell me the weather', 'weather', 'what about the weather']\n",
    "cmd6 = ['what is you favourite colour', 'what is your favourite color']\n",
    "cmd7 = ['what is your color', 'what is your colour', 'your color', 'your color?']\n",
    "cmd8 = ['exit', 'close', 'goodbye', 'nothing']\n",
    "cmd9 = ['thank you']\n",
    "\n",
    "colrep = ['Right now its rainbow', 'Right now its transparent', 'Right now its non chromatic']\n",
    "jokes = ['Can a kangaroo jump higher than a house? Of course, a house doesn’t jump at all.', 'My dog used to chase people on a bike a lot. It got so bad, finally I had to take his bike away.', 'Doctor: Im sorry but you suffer from a terminal illness and have only 10 to live.Patient: What do you mean, 10? 10 what? Months? Weeks?!\"Doctor: Nine.']\n",
    "repfr9 = ['youre welcome', 'glad i could help you']"
   ]
  },
  {
   "cell_type": "code",
   "execution_count": null,
   "id": "5c1f3855",
   "metadata": {},
   "outputs": [
    {
     "name": "stdout",
     "output_type": "stream",
     "text": [
      "Tell me something:\n"
     ]
    }
   ],
   "source": [
    "while True:\n",
    "    now = datetime.datetime.now()\n",
    "    r = sr.Recognizer()\n",
    "    with sr.Microphone() as source:\n",
    "        print(\"Tell me something:\")\n",
    "        audio = r.listen(source)\n",
    "        try:\n",
    "            print(\"You said:- \" + r.recognize_google(audio))\n",
    "        except sr.UnknownValueError:\n",
    "            print(\"Could not understand audio\")\n",
    "            engine.say('I didnt get that. Rerun the code')\n",
    "            engine.runAndWait()\n",
    "                \n",
    "    if r.recognize_google(audio) in greetings:\n",
    "        random_greeting = random.choice(greetings)\n",
    "        print(random_greeting)\n",
    "        engine.say(random_greeting)\n",
    "        engine.runAndWait()\n",
    "#   doubt\n",
    "    elif r.recognize_google(audio) in question:\n",
    "        engine.say('I am fine')\n",
    "        engine.runAndWait()\n",
    "        print('I am fine')\n",
    "    elif r.recognize_google(audio) in var1:\n",
    "        engine.say('I was made by ROSHIT')\n",
    "        engine.runAndWait()\n",
    "        reply = random.choice(var2)\n",
    "        print(reply)\n",
    "    elif r.recognize_google(audio) in var3:\n",
    "        print(\"Current date and time : \")\n",
    "        print(now.strftime(\"The time is %H:%M:%S\"))\n",
    "        engine.say(now.strftime(\"The time is %H:%M:%S\"))\n",
    "        engine.runAndWait()\n",
    "    elif r.recognize_google(audio) in var4:\n",
    "        engine.say('I am a silly bot')\n",
    "        engine.runAndWait()\n",
    "        print('I am a silly bot')\n",
    "#    doubt\n",
    "    elif r.recognize_google(audio) in cmd1:\n",
    "        webbrowser.open('www.google.com')\n",
    "    elif r.recognize_google(audio) in cmd2:\n",
    "        mixer.init()\n",
    "        mixer.music.load(\"song.wav\")\n",
    "        mixer.music.play()\n",
    "    elif r.recognize_google(audio) in cmd3:\n",
    "        jokrep = random.choice(jokes)\n",
    "        engine.say(jokrep)\n",
    "        engine.runAndWait()\n",
    "    elif r.recognize_google(audio) in cmd4:\n",
    "        webbrowser.open('www.youtube.com')\n",
    "#     doubt\n",
    "    elif r.recognize_google(audio) in cmd5:\n",
    "        owm = pyowm.OWM('YOUR_API_KEY')\n",
    "        observation = owm.weather_at_place('Bangalore, IN')\n",
    "        observation_list = owm.weather_around_coords(12.972442, 77.580643)\n",
    "        w = observation.get_weather()\n",
    "        w.get_wind()\n",
    "        w.get_humidity()\n",
    "        w.get_temperature('celsius')\n",
    "        print(w)\n",
    "        print(w.get_wind())\n",
    "        print(w.get_humidity())\n",
    "        print(w.get_temperature('celsius'))\n",
    "        engine.say(w.get_wind())\n",
    "        engine.runAndWait()\n",
    "        engine.say('humidity')\n",
    "        engine.runAndWait()\n",
    "        engine.say(w.get_humidity())\n",
    "        engine.runAndWait()\n",
    "        engine.say('temperature')\n",
    "        engine.runAndWait()\n",
    "        engine.say(w.get_temperature('celsius'))\n",
    "        engine.runAndWait()\n",
    "    elif r.recognize_google(audio) in cmd6:\n",
    "        print(random.choice(colrep))\n",
    "        engine.say(random.choice(colrep))\n",
    "        engine.runAndWait()\n",
    "        print('It keeps changing every micro second')\n",
    "        engine.say('It keeps changing every micro second')\n",
    "        engine.runAndWait()\n",
    "    elif r.recognize_google(audio) in cmd7:\n",
    "        print(random.choice(colrep))\n",
    "        engine.say(random.choice(colrep))\n",
    "        engine.runAndWait()\n",
    "        print('It keeps changing every micro second')\n",
    "        engine.say('It keeps changing every micro second')\n",
    "        engine.runAndWait()\n",
    "#     doubt\n",
    "    elif r.recognize_google(audio) in cmd8:\n",
    "        print('see you later')\n",
    "        engine.say('see you later')\n",
    "        engine.runAndWait()\n",
    "        exit()\n",
    "    elif r.recognize_google(audio) in cmd9:\n",
    "        print(random.choice(repfr9))\n",
    "        engine.say(random.choice(repfr9))\n",
    "        engine.runAndWait()\n",
    "    else:\n",
    "        print (\"please wait: ...\")\n",
    "        engine.runAndWait()\n",
    "        print(wikipedia.summary(r.recognize_google(audio)))\n",
    "        engine.say(wikipedia.summary(r.recognize_google(audio)))\n",
    "        engine.runAndWait()"
   ]
  },
  {
   "cell_type": "code",
   "execution_count": null,
   "id": "777aa805",
   "metadata": {},
   "outputs": [],
   "source": []
  },
  {
   "cell_type": "code",
   "execution_count": null,
   "id": "8c38dfc1",
   "metadata": {},
   "outputs": [],
   "source": []
  }
 ],
 "metadata": {
  "kernelspec": {
   "display_name": "Python 3 (ipykernel)",
   "language": "python",
   "name": "python3"
  },
  "language_info": {
   "codemirror_mode": {
    "name": "ipython",
    "version": 3
   },
   "file_extension": ".py",
   "mimetype": "text/x-python",
   "name": "python",
   "nbconvert_exporter": "python",
   "pygments_lexer": "ipython3",
   "version": "3.9.7"
  }
 },
 "nbformat": 4,
 "nbformat_minor": 5
}

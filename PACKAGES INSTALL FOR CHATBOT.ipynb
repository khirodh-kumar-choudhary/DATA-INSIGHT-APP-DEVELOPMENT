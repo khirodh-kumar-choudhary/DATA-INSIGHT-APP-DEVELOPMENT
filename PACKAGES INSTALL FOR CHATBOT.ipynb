{
 "cells": [
  {
   "cell_type": "code",
   "execution_count": 1,
   "id": "ebe5a5ba",
   "metadata": {
    "scrolled": true
   },
   "outputs": [
    {
     "name": "stdout",
     "output_type": "stream",
     "text": [
      "Requirement already satisfied: pandas in c:\\users\\khiro\\anaconda3\\lib\\site-packages (1.3.4)\n",
      "Requirement already satisfied: python-dateutil>=2.7.3 in c:\\users\\khiro\\anaconda3\\lib\\site-packages (from pandas) (2.7.5)\n",
      "Requirement already satisfied: numpy>=1.17.3 in c:\\users\\khiro\\anaconda3\\lib\\site-packages (from pandas) (1.20.3)\n",
      "Requirement already satisfied: pytz>=2017.3 in c:\\users\\khiro\\anaconda3\\lib\\site-packages (from pandas) (2021.3)\n",
      "Requirement already satisfied: six>=1.5 in c:\\users\\khiro\\anaconda3\\lib\\site-packages (from python-dateutil>=2.7.3->pandas) (1.16.0)\n"
     ]
    }
   ],
   "source": [
    "!pip install pandas"
   ]
  },
  {
   "cell_type": "code",
   "execution_count": 2,
   "id": "ff1a3b3b",
   "metadata": {},
   "outputs": [
    {
     "name": "stdout",
     "output_type": "stream",
     "text": [
      "Requirement already satisfied: numpy in c:\\users\\khiro\\anaconda3\\lib\\site-packages (1.20.3)\n"
     ]
    }
   ],
   "source": [
    "!pip install numpy"
   ]
  },
  {
   "cell_type": "code",
   "execution_count": 3,
   "id": "76f9c569",
   "metadata": {},
   "outputs": [
    {
     "name": "stdout",
     "output_type": "stream",
     "text": [
      "Requirement already satisfied: matplotlib in c:\\users\\khiro\\anaconda3\\lib\\site-packages (3.4.3)\n",
      "Requirement already satisfied: cycler>=0.10 in c:\\users\\khiro\\anaconda3\\lib\\site-packages (from matplotlib) (0.10.0)\n",
      "Requirement already satisfied: kiwisolver>=1.0.1 in c:\\users\\khiro\\anaconda3\\lib\\site-packages (from matplotlib) (1.3.1)\n",
      "Requirement already satisfied: python-dateutil>=2.7 in c:\\users\\khiro\\anaconda3\\lib\\site-packages (from matplotlib) (2.7.5)\n",
      "Requirement already satisfied: numpy>=1.16 in c:\\users\\khiro\\anaconda3\\lib\\site-packages (from matplotlib) (1.20.3)\n",
      "Requirement already satisfied: pyparsing>=2.2.1 in c:\\users\\khiro\\anaconda3\\lib\\site-packages (from matplotlib) (3.0.4)\n",
      "Requirement already satisfied: pillow>=6.2.0 in c:\\users\\khiro\\anaconda3\\lib\\site-packages (from matplotlib) (8.4.0)\n",
      "Requirement already satisfied: six in c:\\users\\khiro\\anaconda3\\lib\\site-packages (from cycler>=0.10->matplotlib) (1.16.0)\n"
     ]
    }
   ],
   "source": [
    "!pip install matplotlib"
   ]
  },
  {
   "cell_type": "code",
   "execution_count": 4,
   "id": "114626f9",
   "metadata": {},
   "outputs": [
    {
     "name": "stdout",
     "output_type": "stream",
     "text": [
      "Requirement already satisfied: seaborn in c:\\users\\khiro\\anaconda3\\lib\\site-packages (0.11.2)\n",
      "Requirement already satisfied: matplotlib>=2.2 in c:\\users\\khiro\\anaconda3\\lib\\site-packages (from seaborn) (3.4.3)\n",
      "Requirement already satisfied: pandas>=0.23 in c:\\users\\khiro\\anaconda3\\lib\\site-packages (from seaborn) (1.3.4)\n",
      "Requirement already satisfied: numpy>=1.15 in c:\\users\\khiro\\anaconda3\\lib\\site-packages (from seaborn) (1.20.3)\n",
      "Requirement already satisfied: scipy>=1.0 in c:\\users\\khiro\\anaconda3\\lib\\site-packages (from seaborn) (1.7.1)\n",
      "Requirement already satisfied: kiwisolver>=1.0.1 in c:\\users\\khiro\\anaconda3\\lib\\site-packages (from matplotlib>=2.2->seaborn) (1.3.1)\n",
      "Requirement already satisfied: pyparsing>=2.2.1 in c:\\users\\khiro\\anaconda3\\lib\\site-packages (from matplotlib>=2.2->seaborn) (3.0.4)\n",
      "Requirement already satisfied: python-dateutil>=2.7 in c:\\users\\khiro\\anaconda3\\lib\\site-packages (from matplotlib>=2.2->seaborn) (2.7.5)\n",
      "Requirement already satisfied: cycler>=0.10 in c:\\users\\khiro\\anaconda3\\lib\\site-packages (from matplotlib>=2.2->seaborn) (0.10.0)\n",
      "Requirement already satisfied: pillow>=6.2.0 in c:\\users\\khiro\\anaconda3\\lib\\site-packages (from matplotlib>=2.2->seaborn) (8.4.0)\n",
      "Requirement already satisfied: six in c:\\users\\khiro\\anaconda3\\lib\\site-packages (from cycler>=0.10->matplotlib>=2.2->seaborn) (1.16.0)\n",
      "Requirement already satisfied: pytz>=2017.3 in c:\\users\\khiro\\anaconda3\\lib\\site-packages (from pandas>=0.23->seaborn) (2021.3)\n"
     ]
    }
   ],
   "source": [
    "!pip install seaborn"
   ]
  },
  {
   "cell_type": "code",
   "execution_count": 5,
   "id": "7f4dee6b",
   "metadata": {},
   "outputs": [
    {
     "name": "stdout",
     "output_type": "stream",
     "text": [
      "Requirement already satisfied: plotly in c:\\users\\khiro\\anaconda3\\lib\\site-packages (5.8.1)\n",
      "Requirement already satisfied: tenacity>=6.2.0 in c:\\users\\khiro\\anaconda3\\lib\\site-packages (from plotly) (8.0.1)\n"
     ]
    }
   ],
   "source": [
    "!pip install plotly"
   ]
  },
  {
   "cell_type": "code",
   "execution_count": 6,
   "id": "c18d5179",
   "metadata": {},
   "outputs": [
    {
     "name": "stdout",
     "output_type": "stream",
     "text": [
      "Requirement already satisfied: dash in c:\\users\\khiro\\anaconda3\\lib\\site-packages (2.5.0)\n",
      "Requirement already satisfied: flask-compress in c:\\users\\khiro\\anaconda3\\lib\\site-packages (from dash) (1.12)\n",
      "Requirement already satisfied: dash-table==5.0.0 in c:\\users\\khiro\\anaconda3\\lib\\site-packages (from dash) (5.0.0)\n",
      "Requirement already satisfied: plotly>=5.0.0 in c:\\users\\khiro\\anaconda3\\lib\\site-packages (from dash) (5.8.1)\n",
      "Requirement already satisfied: dash-core-components==2.0.0 in c:\\users\\khiro\\anaconda3\\lib\\site-packages (from dash) (2.0.0)\n",
      "Requirement already satisfied: dash-html-components==2.0.0 in c:\\users\\khiro\\anaconda3\\lib\\site-packages (from dash) (2.0.0)\n",
      "Requirement already satisfied: Flask>=1.0.4 in c:\\users\\khiro\\anaconda3\\lib\\site-packages (from dash) (1.1.2)\n",
      "Requirement already satisfied: Werkzeug>=0.15 in c:\\users\\khiro\\anaconda3\\lib\\site-packages (from Flask>=1.0.4->dash) (2.0.2)\n",
      "Requirement already satisfied: Jinja2>=2.10.1 in c:\\users\\khiro\\anaconda3\\lib\\site-packages (from Flask>=1.0.4->dash) (2.11.3)\n",
      "Requirement already satisfied: itsdangerous>=0.24 in c:\\users\\khiro\\anaconda3\\lib\\site-packages (from Flask>=1.0.4->dash) (2.0.1)\n",
      "Requirement already satisfied: click>=5.1 in c:\\users\\khiro\\anaconda3\\lib\\site-packages (from Flask>=1.0.4->dash) (8.0.3)\n",
      "Requirement already satisfied: colorama in c:\\users\\khiro\\anaconda3\\lib\\site-packages (from click>=5.1->Flask>=1.0.4->dash) (0.4.4)\n",
      "Requirement already satisfied: MarkupSafe>=0.23 in c:\\users\\khiro\\anaconda3\\lib\\site-packages (from Jinja2>=2.10.1->Flask>=1.0.4->dash) (1.1.1)\n",
      "Requirement already satisfied: tenacity>=6.2.0 in c:\\users\\khiro\\anaconda3\\lib\\site-packages (from plotly>=5.0.0->dash) (8.0.1)\n",
      "Requirement already satisfied: brotli in c:\\users\\khiro\\anaconda3\\lib\\site-packages (from flask-compress->dash) (1.0.9)\n"
     ]
    }
   ],
   "source": [
    "!pip install dash"
   ]
  },
  {
   "cell_type": "code",
   "execution_count": 7,
   "id": "d07a42a2",
   "metadata": {},
   "outputs": [
    {
     "name": "stdout",
     "output_type": "stream",
     "text": [
      "Requirement already satisfied: jupyter_dash in c:\\users\\khiro\\anaconda3\\lib\\site-packages (0.4.2)\n",
      "Requirement already satisfied: dash in c:\\users\\khiro\\anaconda3\\lib\\site-packages (from jupyter_dash) (2.5.0)\n",
      "Requirement already satisfied: ipykernel in c:\\users\\khiro\\anaconda3\\lib\\site-packages (from jupyter_dash) (6.4.1)\n",
      "Requirement already satisfied: ansi2html in c:\\users\\khiro\\anaconda3\\lib\\site-packages (from jupyter_dash) (1.7.0)\n",
      "Requirement already satisfied: flask in c:\\users\\khiro\\anaconda3\\lib\\site-packages (from jupyter_dash) (1.1.2)\n",
      "Requirement already satisfied: nest-asyncio in c:\\users\\khiro\\anaconda3\\lib\\site-packages (from jupyter_dash) (1.5.1)\n",
      "Requirement already satisfied: ipython in c:\\users\\khiro\\anaconda3\\lib\\site-packages (from jupyter_dash) (7.29.0)\n",
      "Requirement already satisfied: requests in c:\\users\\khiro\\anaconda3\\lib\\site-packages (from jupyter_dash) (2.26.0)\n",
      "Requirement already satisfied: retrying in c:\\users\\khiro\\anaconda3\\lib\\site-packages (from jupyter_dash) (1.3.3)\n",
      "Requirement already satisfied: flask-compress in c:\\users\\khiro\\anaconda3\\lib\\site-packages (from dash->jupyter_dash) (1.12)\n",
      "Requirement already satisfied: dash-table==5.0.0 in c:\\users\\khiro\\anaconda3\\lib\\site-packages (from dash->jupyter_dash) (5.0.0)\n",
      "Requirement already satisfied: dash-core-components==2.0.0 in c:\\users\\khiro\\anaconda3\\lib\\site-packages (from dash->jupyter_dash) (2.0.0)\n",
      "Requirement already satisfied: plotly>=5.0.0 in c:\\users\\khiro\\anaconda3\\lib\\site-packages (from dash->jupyter_dash) (5.8.1)\n",
      "Requirement already satisfied: dash-html-components==2.0.0 in c:\\users\\khiro\\anaconda3\\lib\\site-packages (from dash->jupyter_dash) (2.0.0)\n",
      "Requirement already satisfied: click>=5.1 in c:\\users\\khiro\\anaconda3\\lib\\site-packages (from flask->jupyter_dash) (8.0.3)\n",
      "Requirement already satisfied: Jinja2>=2.10.1 in c:\\users\\khiro\\anaconda3\\lib\\site-packages (from flask->jupyter_dash) (2.11.3)\n",
      "Requirement already satisfied: itsdangerous>=0.24 in c:\\users\\khiro\\anaconda3\\lib\\site-packages (from flask->jupyter_dash) (2.0.1)\n",
      "Requirement already satisfied: Werkzeug>=0.15 in c:\\users\\khiro\\anaconda3\\lib\\site-packages (from flask->jupyter_dash) (2.0.2)\n",
      "Requirement already satisfied: colorama in c:\\users\\khiro\\anaconda3\\lib\\site-packages (from click>=5.1->flask->jupyter_dash) (0.4.4)\n",
      "Requirement already satisfied: MarkupSafe>=0.23 in c:\\users\\khiro\\anaconda3\\lib\\site-packages (from Jinja2>=2.10.1->flask->jupyter_dash) (1.1.1)\n",
      "Requirement already satisfied: tenacity>=6.2.0 in c:\\users\\khiro\\anaconda3\\lib\\site-packages (from plotly>=5.0.0->dash->jupyter_dash) (8.0.1)\n",
      "Requirement already satisfied: brotli in c:\\users\\khiro\\anaconda3\\lib\\site-packages (from flask-compress->dash->jupyter_dash) (1.0.9)\n",
      "Requirement already satisfied: jupyter-client<8.0 in c:\\users\\khiro\\anaconda3\\lib\\site-packages (from ipykernel->jupyter_dash) (6.1.12)\n",
      "Requirement already satisfied: traitlets<6.0,>=4.1.0 in c:\\users\\khiro\\anaconda3\\lib\\site-packages (from ipykernel->jupyter_dash) (5.1.0)\n",
      "Requirement already satisfied: tornado<7.0,>=4.2 in c:\\users\\khiro\\anaconda3\\lib\\site-packages (from ipykernel->jupyter_dash) (6.1)\n",
      "Requirement already satisfied: matplotlib-inline<0.2.0,>=0.1.0 in c:\\users\\khiro\\anaconda3\\lib\\site-packages (from ipykernel->jupyter_dash) (0.1.2)\n",
      "Requirement already satisfied: ipython-genutils in c:\\users\\khiro\\anaconda3\\lib\\site-packages (from ipykernel->jupyter_dash) (0.2.0)\n",
      "Requirement already satisfied: debugpy<2.0,>=1.0.0 in c:\\users\\khiro\\anaconda3\\lib\\site-packages (from ipykernel->jupyter_dash) (1.4.1)\n",
      "Requirement already satisfied: backcall in c:\\users\\khiro\\anaconda3\\lib\\site-packages (from ipython->jupyter_dash) (0.2.0)\n",
      "Requirement already satisfied: jedi>=0.16 in c:\\users\\khiro\\anaconda3\\lib\\site-packages (from ipython->jupyter_dash) (0.18.0)\n",
      "Requirement already satisfied: setuptools>=18.5 in c:\\users\\khiro\\anaconda3\\lib\\site-packages (from ipython->jupyter_dash) (58.0.4)\n",
      "Requirement already satisfied: prompt-toolkit!=3.0.0,!=3.0.1,<3.1.0,>=2.0.0 in c:\\users\\khiro\\anaconda3\\lib\\site-packages (from ipython->jupyter_dash) (3.0.20)\n",
      "Requirement already satisfied: pygments in c:\\users\\khiro\\anaconda3\\lib\\site-packages (from ipython->jupyter_dash) (2.10.0)\n",
      "Requirement already satisfied: decorator in c:\\users\\khiro\\anaconda3\\lib\\site-packages (from ipython->jupyter_dash) (5.1.0)\n",
      "Requirement already satisfied: pickleshare in c:\\users\\khiro\\anaconda3\\lib\\site-packages (from ipython->jupyter_dash) (0.7.5)\n",
      "Requirement already satisfied: parso<0.9.0,>=0.8.0 in c:\\users\\khiro\\anaconda3\\lib\\site-packages (from jedi>=0.16->ipython->jupyter_dash) (0.8.2)\n",
      "Requirement already satisfied: python-dateutil>=2.1 in c:\\users\\khiro\\anaconda3\\lib\\site-packages (from jupyter-client<8.0->ipykernel->jupyter_dash) (2.7.5)\n",
      "Requirement already satisfied: jupyter-core>=4.6.0 in c:\\users\\khiro\\anaconda3\\lib\\site-packages (from jupyter-client<8.0->ipykernel->jupyter_dash) (4.8.1)\n",
      "Requirement already satisfied: pyzmq>=13 in c:\\users\\khiro\\anaconda3\\lib\\site-packages (from jupyter-client<8.0->ipykernel->jupyter_dash) (22.2.1)\n",
      "Requirement already satisfied: pywin32>=1.0 in c:\\users\\khiro\\anaconda3\\lib\\site-packages (from jupyter-core>=4.6.0->jupyter-client<8.0->ipykernel->jupyter_dash) (228)\n",
      "Requirement already satisfied: wcwidth in c:\\users\\khiro\\anaconda3\\lib\\site-packages (from prompt-toolkit!=3.0.0,!=3.0.1,<3.1.0,>=2.0.0->ipython->jupyter_dash) (0.2.5)\n",
      "Requirement already satisfied: six>=1.5 in c:\\users\\khiro\\anaconda3\\lib\\site-packages (from python-dateutil>=2.1->jupyter-client<8.0->ipykernel->jupyter_dash) (1.16.0)\n",
      "Requirement already satisfied: urllib3<1.27,>=1.21.1 in c:\\users\\khiro\\anaconda3\\lib\\site-packages (from requests->jupyter_dash) (1.26.7)\n",
      "Requirement already satisfied: certifi>=2017.4.17 in c:\\users\\khiro\\anaconda3\\lib\\site-packages (from requests->jupyter_dash) (2021.10.8)\n",
      "Requirement already satisfied: idna<4,>=2.5 in c:\\users\\khiro\\anaconda3\\lib\\site-packages (from requests->jupyter_dash) (3.2)\n",
      "Requirement already satisfied: charset-normalizer~=2.0.0 in c:\\users\\khiro\\anaconda3\\lib\\site-packages (from requests->jupyter_dash) (2.0.4)\n"
     ]
    }
   ],
   "source": [
    "!pip install jupyter_dash"
   ]
  },
  {
   "cell_type": "code",
   "execution_count": 8,
   "id": "5d358a2c",
   "metadata": {},
   "outputs": [
    {
     "name": "stdout",
     "output_type": "stream",
     "text": [
      "Requirement already satisfied: nltk in c:\\users\\khiro\\anaconda3\\lib\\site-packages (3.6.5)\n",
      "Requirement already satisfied: click in c:\\users\\khiro\\anaconda3\\lib\\site-packages (from nltk) (8.0.3)\n",
      "Requirement already satisfied: joblib in c:\\users\\khiro\\anaconda3\\lib\\site-packages (from nltk) (1.1.0)\n",
      "Requirement already satisfied: regex>=2021.8.3 in c:\\users\\khiro\\anaconda3\\lib\\site-packages (from nltk) (2021.8.3)\n",
      "Requirement already satisfied: tqdm in c:\\users\\khiro\\anaconda3\\lib\\site-packages (from nltk) (4.62.3)\n",
      "Requirement already satisfied: colorama in c:\\users\\khiro\\anaconda3\\lib\\site-packages (from click->nltk) (0.4.4)\n"
     ]
    }
   ],
   "source": [
    "!pip install nltk"
   ]
  },
  {
   "cell_type": "code",
   "execution_count": 9,
   "id": "fb54bfe1",
   "metadata": {},
   "outputs": [
    {
     "name": "stdout",
     "output_type": "stream",
     "text": [
      "Requirement already satisfied: tk in c:\\users\\khiro\\anaconda3\\lib\\site-packages (0.1.0)\n"
     ]
    }
   ],
   "source": [
    "!pip install tk"
   ]
  },
  {
   "cell_type": "code",
   "execution_count": 10,
   "id": "cb4a6f65",
   "metadata": {},
   "outputs": [
    {
     "name": "stdout",
     "output_type": "stream",
     "text": [
      "Requirement already satisfied: pipwin in c:\\users\\khiro\\anaconda3\\lib\\site-packages (0.5.2)\n",
      "Requirement already satisfied: six in c:\\users\\khiro\\anaconda3\\lib\\site-packages (from pipwin) (1.16.0)\n",
      "Requirement already satisfied: beautifulsoup4>=4.9.0 in c:\\users\\khiro\\anaconda3\\lib\\site-packages (from pipwin) (4.10.0)\n",
      "Requirement already satisfied: docopt in c:\\users\\khiro\\anaconda3\\lib\\site-packages (from pipwin) (0.6.2)\n",
      "Requirement already satisfied: pyprind in c:\\users\\khiro\\anaconda3\\lib\\site-packages (from pipwin) (2.11.3)\n",
      "Requirement already satisfied: pySmartDL>=1.3.1 in c:\\users\\khiro\\anaconda3\\lib\\site-packages (from pipwin) (1.3.4)\n",
      "Requirement already satisfied: js2py in c:\\users\\khiro\\anaconda3\\lib\\site-packages (from pipwin) (0.71)\n",
      "Requirement already satisfied: requests in c:\\users\\khiro\\anaconda3\\lib\\site-packages (from pipwin) (2.26.0)\n",
      "Requirement already satisfied: packaging in c:\\users\\khiro\\anaconda3\\lib\\site-packages (from pipwin) (21.0)\n",
      "Requirement already satisfied: soupsieve>1.2 in c:\\users\\khiro\\anaconda3\\lib\\site-packages (from beautifulsoup4>=4.9.0->pipwin) (2.2.1)\n",
      "Requirement already satisfied: pyjsparser>=2.5.1 in c:\\users\\khiro\\anaconda3\\lib\\site-packages (from js2py->pipwin) (2.7.1)\n",
      "Requirement already satisfied: tzlocal>=1.2 in c:\\users\\khiro\\anaconda3\\lib\\site-packages (from js2py->pipwin) (4.2)\n",
      "Requirement already satisfied: pytz-deprecation-shim in c:\\users\\khiro\\anaconda3\\lib\\site-packages (from tzlocal>=1.2->js2py->pipwin) (0.1.0.post0)\n",
      "Requirement already satisfied: tzdata in c:\\users\\khiro\\anaconda3\\lib\\site-packages (from tzlocal>=1.2->js2py->pipwin) (2022.1)\n",
      "Requirement already satisfied: pyparsing>=2.0.2 in c:\\users\\khiro\\anaconda3\\lib\\site-packages (from packaging->pipwin) (3.0.4)\n",
      "Requirement already satisfied: charset-normalizer~=2.0.0 in c:\\users\\khiro\\anaconda3\\lib\\site-packages (from requests->pipwin) (2.0.4)\n",
      "Requirement already satisfied: urllib3<1.27,>=1.21.1 in c:\\users\\khiro\\anaconda3\\lib\\site-packages (from requests->pipwin) (1.26.7)\n",
      "Requirement already satisfied: idna<4,>=2.5 in c:\\users\\khiro\\anaconda3\\lib\\site-packages (from requests->pipwin) (3.2)\n",
      "Requirement already satisfied: certifi>=2017.4.17 in c:\\users\\khiro\\anaconda3\\lib\\site-packages (from requests->pipwin) (2021.10.8)\n"
     ]
    }
   ],
   "source": [
    "!pip install pipwin"
   ]
  },
  {
   "cell_type": "code",
   "execution_count": 11,
   "id": "22fb9123",
   "metadata": {},
   "outputs": [
    {
     "name": "stdout",
     "output_type": "stream",
     "text": [
      "Requirement already satisfied: audiomath in c:\\users\\khiro\\anaconda3\\lib\\site-packages (1.17.0)\n",
      "Requirement already satisfied: comtypes in c:\\users\\khiro\\anaconda3\\lib\\site-packages (from audiomath) (1.1.10)\n",
      "Requirement already satisfied: numpy in c:\\users\\khiro\\anaconda3\\lib\\site-packages (from audiomath) (1.20.3)\n",
      "Requirement already satisfied: psutil in c:\\users\\khiro\\anaconda3\\lib\\site-packages (from audiomath) (5.8.0)\n"
     ]
    }
   ],
   "source": [
    "!pip install audiomath"
   ]
  },
  {
   "cell_type": "code",
   "execution_count": 12,
   "id": "bb1ca7e5",
   "metadata": {
    "scrolled": false
   },
   "outputs": [
    {
     "name": "stdout",
     "output_type": "stream",
     "text": [
      "Requirement already satisfied: wikipedia in c:\\users\\khiro\\anaconda3\\lib\\site-packages (1.4.0)\n",
      "Requirement already satisfied: requests<3.0.0,>=2.0.0 in c:\\users\\khiro\\anaconda3\\lib\\site-packages (from wikipedia) (2.26.0)\n",
      "Requirement already satisfied: beautifulsoup4 in c:\\users\\khiro\\anaconda3\\lib\\site-packages (from wikipedia) (4.10.0)\n",
      "Requirement already satisfied: charset-normalizer~=2.0.0 in c:\\users\\khiro\\anaconda3\\lib\\site-packages (from requests<3.0.0,>=2.0.0->wikipedia) (2.0.4)\n",
      "Requirement already satisfied: certifi>=2017.4.17 in c:\\users\\khiro\\anaconda3\\lib\\site-packages (from requests<3.0.0,>=2.0.0->wikipedia) (2021.10.8)\n",
      "Requirement already satisfied: idna<4,>=2.5 in c:\\users\\khiro\\anaconda3\\lib\\site-packages (from requests<3.0.0,>=2.0.0->wikipedia) (3.2)\n",
      "Requirement already satisfied: urllib3<1.27,>=1.21.1 in c:\\users\\khiro\\anaconda3\\lib\\site-packages (from requests<3.0.0,>=2.0.0->wikipedia) (1.26.7)\n",
      "Requirement already satisfied: soupsieve>1.2 in c:\\users\\khiro\\anaconda3\\lib\\site-packages (from beautifulsoup4->wikipedia) (2.2.1)\n"
     ]
    }
   ],
   "source": [
    "!pip install wikipedia"
   ]
  },
  {
   "cell_type": "code",
   "execution_count": 13,
   "id": "42f0c339",
   "metadata": {},
   "outputs": [
    {
     "name": "stdout",
     "output_type": "stream",
     "text": [
      "Requirement already satisfied: pathlib in c:\\users\\khiro\\anaconda3\\lib\\site-packages (1.0.1)\n"
     ]
    }
   ],
   "source": [
    "!pip install pathlib"
   ]
  },
  {
   "cell_type": "code",
   "execution_count": 14,
   "id": "121067f5",
   "metadata": {},
   "outputs": [
    {
     "name": "stdout",
     "output_type": "stream",
     "text": [
      "Requirement already satisfied: chatterbot in c:\\users\\khiro\\anaconda3\\lib\\site-packages (1.0.4)\n",
      "Requirement already satisfied: mathparse<0.2,>=0.1 in c:\\users\\khiro\\anaconda3\\lib\\site-packages (from chatterbot) (0.1.2)\n",
      "Requirement already satisfied: pymongo<4.0,>=3.3 in c:\\users\\khiro\\anaconda3\\lib\\site-packages (from chatterbot) (3.12.3)\n",
      "Requirement already satisfied: sqlalchemy<1.3,>=1.2 in c:\\users\\khiro\\anaconda3\\lib\\site-packages (from chatterbot) (1.2.19)\n",
      "Requirement already satisfied: pint>=0.8.1 in c:\\users\\khiro\\anaconda3\\lib\\site-packages (from chatterbot) (0.19.2)\n",
      "Requirement already satisfied: chatterbot-corpus<1.3,>=1.2 in c:\\users\\khiro\\anaconda3\\lib\\site-packages (from chatterbot) (1.2.0)\n",
      "Requirement already satisfied: python-dateutil<2.8,>=2.7 in c:\\users\\khiro\\anaconda3\\lib\\site-packages (from chatterbot) (2.7.5)\n",
      "Requirement already satisfied: nltk<4.0,>=3.2 in c:\\users\\khiro\\anaconda3\\lib\\site-packages (from chatterbot) (3.6.5)\n",
      "Requirement already satisfied: PyYAML<4.0,>=3.12 in c:\\users\\khiro\\anaconda3\\lib\\site-packages (from chatterbot-corpus<1.3,>=1.2->chatterbot) (3.13)\n",
      "Requirement already satisfied: click in c:\\users\\khiro\\anaconda3\\lib\\site-packages (from nltk<4.0,>=3.2->chatterbot) (8.0.3)\n",
      "Requirement already satisfied: joblib in c:\\users\\khiro\\anaconda3\\lib\\site-packages (from nltk<4.0,>=3.2->chatterbot) (1.1.0)\n",
      "Requirement already satisfied: regex>=2021.8.3 in c:\\users\\khiro\\anaconda3\\lib\\site-packages (from nltk<4.0,>=3.2->chatterbot) (2021.8.3)\n",
      "Requirement already satisfied: tqdm in c:\\users\\khiro\\anaconda3\\lib\\site-packages (from nltk<4.0,>=3.2->chatterbot) (4.62.3)\n",
      "Requirement already satisfied: six>=1.5 in c:\\users\\khiro\\anaconda3\\lib\\site-packages (from python-dateutil<2.8,>=2.7->chatterbot) (1.16.0)\n",
      "Requirement already satisfied: colorama in c:\\users\\khiro\\anaconda3\\lib\\site-packages (from click->nltk<4.0,>=3.2->chatterbot) (0.4.4)\n",
      "Note: you may need to restart the kernel to use updated packages.\n"
     ]
    }
   ],
   "source": [
    "pip install chatterbot"
   ]
  },
  {
   "cell_type": "code",
   "execution_count": 15,
   "id": "597fa187",
   "metadata": {},
   "outputs": [
    {
     "name": "stdout",
     "output_type": "stream",
     "text": [
      "Requirement already satisfied: chatterbot-corpus in c:\\users\\khiro\\anaconda3\\lib\\site-packages (1.2.0)\n",
      "Requirement already satisfied: PyYAML<4.0,>=3.12 in c:\\users\\khiro\\anaconda3\\lib\\site-packages (from chatterbot-corpus) (3.13)\n",
      "Note: you may need to restart the kernel to use updated packages.\n"
     ]
    }
   ],
   "source": [
    "pip install chatterbot-corpus"
   ]
  },
  {
   "cell_type": "code",
   "execution_count": 16,
   "id": "67c035ed",
   "metadata": {
    "scrolled": true
   },
   "outputs": [
    {
     "name": "stdout",
     "output_type": "stream",
     "text": [
      "Requirement already satisfied: django-heroku in c:\\users\\khiro\\anaconda3\\lib\\site-packages (0.3.1)\n",
      "Requirement already satisfied: dj-database-url>=0.5.0 in c:\\users\\khiro\\anaconda3\\lib\\site-packages (from django-heroku) (0.5.0)\n",
      "Requirement already satisfied: whitenoise in c:\\users\\khiro\\anaconda3\\lib\\site-packages (from django-heroku) (6.2.0)\n",
      "Requirement already satisfied: django in c:\\users\\khiro\\anaconda3\\lib\\site-packages (from django-heroku) (4.0.5)\n",
      "Requirement already satisfied: psycopg2 in c:\\users\\khiro\\anaconda3\\lib\\site-packages (from django-heroku) (2.9.3)\n",
      "Requirement already satisfied: asgiref<4,>=3.4.1 in c:\\users\\khiro\\anaconda3\\lib\\site-packages (from django->django-heroku) (3.5.2)\n",
      "Requirement already satisfied: sqlparse>=0.2.2 in c:\\users\\khiro\\anaconda3\\lib\\site-packages (from django->django-heroku) (0.4.2)\n",
      "Requirement already satisfied: tzdata in c:\\users\\khiro\\anaconda3\\lib\\site-packages (from django->django-heroku) (2022.1)\n",
      "Note: you may need to restart the kernel to use updated packages.\n"
     ]
    }
   ],
   "source": [
    "pip install django-heroku"
   ]
  },
  {
   "cell_type": "code",
   "execution_count": 17,
   "id": "031ea7b2",
   "metadata": {
    "scrolled": true
   },
   "outputs": [
    {
     "name": "stdout",
     "output_type": "stream",
     "text": [
      "Requirement already satisfied: SpeechRecognition in c:\\users\\khiro\\anaconda3\\lib\\site-packages (3.8.1)\n"
     ]
    }
   ],
   "source": [
    "!pip install SpeechRecognition"
   ]
  },
  {
   "cell_type": "code",
   "execution_count": 18,
   "id": "a3ff913e",
   "metadata": {
    "scrolled": true
   },
   "outputs": [
    {
     "name": "stdout",
     "output_type": "stream",
     "text": [
      "Requirement already satisfied: pipwin in c:\\users\\khiro\\anaconda3\\lib\\site-packages (0.5.2)\n",
      "Requirement already satisfied: six in c:\\users\\khiro\\anaconda3\\lib\\site-packages (from pipwin) (1.16.0)\n",
      "Requirement already satisfied: requests in c:\\users\\khiro\\anaconda3\\lib\\site-packages (from pipwin) (2.26.0)\n",
      "Requirement already satisfied: beautifulsoup4>=4.9.0 in c:\\users\\khiro\\anaconda3\\lib\\site-packages (from pipwin) (4.10.0)\n",
      "Requirement already satisfied: pyprind in c:\\users\\khiro\\anaconda3\\lib\\site-packages (from pipwin) (2.11.3)\n",
      "Requirement already satisfied: js2py in c:\\users\\khiro\\anaconda3\\lib\\site-packages (from pipwin) (0.71)\n",
      "Requirement already satisfied: packaging in c:\\users\\khiro\\anaconda3\\lib\\site-packages (from pipwin) (21.0)\n",
      "Requirement already satisfied: pySmartDL>=1.3.1 in c:\\users\\khiro\\anaconda3\\lib\\site-packages (from pipwin) (1.3.4)\n",
      "Requirement already satisfied: docopt in c:\\users\\khiro\\anaconda3\\lib\\site-packages (from pipwin) (0.6.2)\n",
      "Requirement already satisfied: soupsieve>1.2 in c:\\users\\khiro\\anaconda3\\lib\\site-packages (from beautifulsoup4>=4.9.0->pipwin) (2.2.1)\n",
      "Requirement already satisfied: tzlocal>=1.2 in c:\\users\\khiro\\anaconda3\\lib\\site-packages (from js2py->pipwin) (4.2)\n",
      "Requirement already satisfied: pyjsparser>=2.5.1 in c:\\users\\khiro\\anaconda3\\lib\\site-packages (from js2py->pipwin) (2.7.1)\n",
      "Requirement already satisfied: pytz-deprecation-shim in c:\\users\\khiro\\anaconda3\\lib\\site-packages (from tzlocal>=1.2->js2py->pipwin) (0.1.0.post0)\n",
      "Requirement already satisfied: tzdata in c:\\users\\khiro\\anaconda3\\lib\\site-packages (from tzlocal>=1.2->js2py->pipwin) (2022.1)\n",
      "Requirement already satisfied: pyparsing>=2.0.2 in c:\\users\\khiro\\anaconda3\\lib\\site-packages (from packaging->pipwin) (3.0.4)\n",
      "Requirement already satisfied: certifi>=2017.4.17 in c:\\users\\khiro\\anaconda3\\lib\\site-packages (from requests->pipwin) (2021.10.8)\n",
      "Requirement already satisfied: idna<4,>=2.5 in c:\\users\\khiro\\anaconda3\\lib\\site-packages (from requests->pipwin) (3.2)\n",
      "Requirement already satisfied: urllib3<1.27,>=1.21.1 in c:\\users\\khiro\\anaconda3\\lib\\site-packages (from requests->pipwin) (1.26.7)\n",
      "Requirement already satisfied: charset-normalizer~=2.0.0 in c:\\users\\khiro\\anaconda3\\lib\\site-packages (from requests->pipwin) (2.0.4)\n",
      "Package `pyaudio` found in cache\n",
      "Downloading package . . .\n",
      "https://download.lfd.uci.edu/pythonlibs/a4hvik9m/PyAudio-0.2.11-cp39-cp39-win_amd64.whl\n",
      "PyAudio-0.2.11-cp39-cp39-win_amd64.whl\n",
      "[*] 0 bytes / 111 kB @ 0 bytes/s [------------------] [0.0%, 0s left]   [*] 0 bytes / 111 kB @ 0 bytes/s [------------------] [0.0%, 0s left]   [*] 0 bytes / 111 kB @ 0 bytes/s [------------------] [0.0%, 0s left]   [*] 0 bytes / 111 kB @ 0 bytes/s [------------------] [0.0%, 0s left]   [*] 0 bytes / 111 kB @ 0 bytes/s [------------------] [0.0%, 0s left]   [*] 0 bytes / 111 kB @ 0 bytes/s [------------------] [0.0%, 0s left]   [*] 0 bytes / 111 kB @ 0 bytes/s [------------------] [0.0%, 0s left]   [*] 0 bytes / 111 kB @ 0 bytes/s [------------------] [0.0%, 0s left]   [*] 0 bytes / 111 kB @ 0 bytes/s [------------------] [0.0%, 0s left]   [*] 0 bytes / 111 kB @ 0 bytes/s [------------------] [0.0%, 0s left]   [*] 0 bytes / 111 kB @ 0 bytes/s [------------------] [0.0%, 0s left]   [*] 0 bytes / 111 kB @ 0 bytes/s [------------------] [0.0%, 0s left]   [*] 0 bytes / 111 kB @ 0 bytes/s [------------------] [0.0%, 0s left]   [*] 0 bytes / 111 kB @ 0 bytes/s [------------------] [0.0%, 0s left]   [*] 0 bytes / 111 kB @ 0 bytes/s [------------------] [0.0%, 0s left]   [*] 0 bytes / 111 kB @ 0 bytes/s [------------------] [0.0%, 0s left]   [*] 0 bytes / 111 kB @ 0 bytes/s [------------------] [0.0%, 0s left]   [*] 0 bytes / 111 kB @ 0 bytes/s [------------------] [0.0%, 0s left]   [*] 0 bytes / 111 kB @ 0 bytes/s [------------------] [0.0%, 0s left]   [*] 0 bytes / 111 kB @ 0 bytes/s [------------------] [0.0%, 0s left]   [*] 0 bytes / 111 kB @ 0 bytes/s [------------------] [0.0%, 0s left]   [*] 0 bytes / 111 kB @ 0 bytes/s [------------------] [0.0%, 0s left]   [*] 0 bytes / 111 kB @ 0 bytes/s [------------------] [0.0%, 0s left]   [*] 0 bytes / 111 kB @ 0 bytes/s [------------------] [0.0%, 0s left]   [*] 0 bytes / 111 kB @ 0 bytes/s [------------------] [0.0%, 0s left]   [*] 0 bytes / 111 kB @ 0 bytes/s [------------------] [0.0%, 0s left]   [*] 0 bytes / 111 kB @ 0 bytes/s [------------------] [0.0%, 0s left]   [*] 0 bytes / 111 kB @ 0 bytes/s [------------------] [0.0%, 0s left]   [*] 0 bytes / 111 kB @ 0 bytes/s [------------------] [0.0%, 0s left]   [*] 0 bytes / 111 kB @ 0 bytes/s [------------------] [0.0%, 0s left]   [*] 0 bytes / 111 kB @ 0 bytes/s [------------------] [0.0%, 0s left]   [*] 0 bytes / 111 kB @ 0 bytes/s [------------------] [0.0%, 0s left]   [*] 8 kB / 111 kB @ 3 kB/s [#-----------------] [7.2%, 0s left]   [*] 8 kB / 111 kB @ 3 kB/s [#-----------------] [7.2%, 0s left]   [*] 8 kB / 111 kB @ 3 kB/s [#-----------------] [7.2%, 0s left]   [*] 8 kB / 111 kB @ 3 kB/s [#-----------------] [7.2%, 0s left]   [*] 40 kB / 111 kB @ 13 kB/s [######------------] [36.0%, 0s left]  [*] 40 kB / 111 kB @ 13 kB/s [######------------] [36.0%, 0s left]  [*] 40 kB / 111 kB @ 13 kB/s [######------------] [36.0%, 0s left]  [*] 40 kB / 111 kB @ 13 kB/s [######------------] [36.0%, 0s left]  [*] 40 kB / 111 kB @ 13 kB/s [######------------] [36.0%, 0s left]  [*] 40 kB / 111 kB @ 13 kB/s [######------------] [36.0%, 0s left]  [*] 40 kB / 111 kB @ 13 kB/s [######------------] [36.0%, 0s left]  [*] 40 kB / 111 kB @ 13 kB/s [######------------] [36.0%, 0s left]  [*] 88 kB / 111 kB @ 29 kB/s [##############----] [79.3%, 0s left]  [*] 88 kB / 111 kB @ 29 kB/s [##############----] [79.3%, 0s left]  [*] 88 kB / 111 kB @ 29 kB/s [##############----] [79.3%, 0s left]  [*] 88 kB / 111 kB @ 29 kB/s [##############----] [79.3%, 0s left]  [*] 88 kB / 111 kB @ 29 kB/s [##############----] [79.3%, 0s left]  [*] 88 kB / 111 kB @ 29 kB/s [##############----] [79.3%, 0s left]  [*] 88 kB / 111 kB @ 29 kB/s [##############----] [79.3%, 0s left]  [*] 88 kB / 111 kB @ 29 kB/s [##############----] [79.3%, 0s left]  [*] 88 kB / 111 kB @ 29 kB/s [##############----] [79.3%, 0s left]  [*] 88 kB / 111 kB @ 29 kB/s [##############----] [79.3%, 0s left]  [*] 88 kB / 111 kB @ 29 kB/s [##############----] [79.3%, 0s left]  Processing c:\\users\\khiro\\pipwin\\pyaudio-0.2.11-cp39-cp39-win_amd64.whl\n",
      "PyAudio is already installed with the same version as the provided wheel. Use --force-reinstall to force an installation of the wheel.\n",
      "[*] 111 kB / 111 kB @ 29 kB/s [##################] [100%, 0s left]    \n"
     ]
    }
   ],
   "source": [
    "!pip install pipwin\n",
    "!python -m pipwin install pyaudio"
   ]
  },
  {
   "cell_type": "code",
   "execution_count": 19,
   "id": "5762e6ba",
   "metadata": {
    "scrolled": true
   },
   "outputs": [
    {
     "name": "stdout",
     "output_type": "stream",
     "text": [
      "Requirement already satisfied: google in c:\\users\\khiro\\anaconda3\\lib\\site-packages (3.0.0)\n",
      "Requirement already satisfied: beautifulsoup4 in c:\\users\\khiro\\anaconda3\\lib\\site-packages (from google) (4.10.0)\n",
      "Requirement already satisfied: soupsieve>1.2 in c:\\users\\khiro\\anaconda3\\lib\\site-packages (from beautifulsoup4->google) (2.2.1)\n"
     ]
    }
   ],
   "source": [
    "!pip install google"
   ]
  },
  {
   "cell_type": "code",
   "execution_count": 20,
   "id": "91432c40",
   "metadata": {},
   "outputs": [
    {
     "name": "stdout",
     "output_type": "stream",
     "text": [
      "Requirement already satisfied: pyttsx3 in c:\\users\\khiro\\anaconda3\\lib\\site-packages (2.90)\n",
      "Requirement already satisfied: comtypes in c:\\users\\khiro\\anaconda3\\lib\\site-packages (from pyttsx3) (1.1.10)\n",
      "Requirement already satisfied: pypiwin32 in c:\\users\\khiro\\anaconda3\\lib\\site-packages (from pyttsx3) (223)\n",
      "Requirement already satisfied: pywin32 in c:\\users\\khiro\\anaconda3\\lib\\site-packages (from pyttsx3) (228)\n"
     ]
    }
   ],
   "source": [
    "!pip install pyttsx3"
   ]
  },
  {
   "cell_type": "code",
   "execution_count": 21,
   "id": "5f146820",
   "metadata": {},
   "outputs": [
    {
     "name": "stdout",
     "output_type": "stream",
     "text": [
      "Requirement already satisfied: pygame in c:\\users\\khiro\\anaconda3\\lib\\site-packages (2.1.2)\n"
     ]
    }
   ],
   "source": [
    "!pip install pygame"
   ]
  },
  {
   "cell_type": "code",
   "execution_count": null,
   "id": "a0383c85",
   "metadata": {},
   "outputs": [],
   "source": [
    "pip install pyowm"
   ]
  },
  {
   "cell_type": "code",
   "execution_count": 23,
   "id": "6cf4246d",
   "metadata": {},
   "outputs": [
    {
     "name": "stdout",
     "output_type": "stream",
     "text": [
      "Requirement already satisfied: gTTs in c:\\users\\khiro\\anaconda3\\lib\\site-packages (2.2.4)\n",
      "Requirement already satisfied: six in c:\\users\\khiro\\anaconda3\\lib\\site-packages (from gTTs) (1.16.0)\n",
      "Requirement already satisfied: requests in c:\\users\\khiro\\anaconda3\\lib\\site-packages (from gTTs) (2.26.0)\n",
      "Requirement already satisfied: click in c:\\users\\khiro\\anaconda3\\lib\\site-packages (from gTTs) (8.0.3)\n",
      "Requirement already satisfied: colorama in c:\\users\\khiro\\anaconda3\\lib\\site-packages (from click->gTTs) (0.4.4)\n",
      "Requirement already satisfied: urllib3<1.27,>=1.21.1 in c:\\users\\khiro\\anaconda3\\lib\\site-packages (from requests->gTTs) (1.26.7)\n",
      "Requirement already satisfied: idna<4,>=2.5 in c:\\users\\khiro\\anaconda3\\lib\\site-packages (from requests->gTTs) (3.2)\n",
      "Requirement already satisfied: charset-normalizer~=2.0.0 in c:\\users\\khiro\\anaconda3\\lib\\site-packages (from requests->gTTs) (2.0.4)\n",
      "Requirement already satisfied: certifi>=2017.4.17 in c:\\users\\khiro\\anaconda3\\lib\\site-packages (from requests->gTTs) (2021.10.8)\n",
      "Note: you may need to restart the kernel to use updated packages.\n"
     ]
    }
   ],
   "source": [
    "pip install gTTs"
   ]
  },
  {
   "cell_type": "code",
   "execution_count": 24,
   "id": "e2229a24",
   "metadata": {
    "scrolled": true
   },
   "outputs": [
    {
     "name": "stdout",
     "output_type": "stream",
     "text": [
      "Requirement already satisfied: chat-exporter in c:\\users\\khiro\\anaconda3\\lib\\site-packages (2.2.1)\n",
      "Requirement already satisfied: emoji in c:\\users\\khiro\\anaconda3\\lib\\site-packages (from chat-exporter) (1.7.0)\n",
      "Requirement already satisfied: aiohttp in c:\\users\\khiro\\anaconda3\\lib\\site-packages (from chat-exporter) (3.8.1)\n",
      "Requirement already satisfied: grapheme in c:\\users\\khiro\\anaconda3\\lib\\site-packages (from chat-exporter) (0.6.0)\n",
      "Requirement already satisfied: pytz in c:\\users\\khiro\\anaconda3\\lib\\site-packages (from chat-exporter) (2021.3)\n",
      "Requirement already satisfied: yarl<2.0,>=1.0 in c:\\users\\khiro\\anaconda3\\lib\\site-packages (from aiohttp->chat-exporter) (1.7.2)\n",
      "Requirement already satisfied: async-timeout<5.0,>=4.0.0a3 in c:\\users\\khiro\\anaconda3\\lib\\site-packages (from aiohttp->chat-exporter) (4.0.2)\n",
      "Requirement already satisfied: aiosignal>=1.1.2 in c:\\users\\khiro\\anaconda3\\lib\\site-packages (from aiohttp->chat-exporter) (1.2.0)\n",
      "Requirement already satisfied: multidict<7.0,>=4.5 in c:\\users\\khiro\\anaconda3\\lib\\site-packages (from aiohttp->chat-exporter) (6.0.2)\n",
      "Requirement already satisfied: frozenlist>=1.1.1 in c:\\users\\khiro\\anaconda3\\lib\\site-packages (from aiohttp->chat-exporter) (1.3.0)\n",
      "Requirement already satisfied: attrs>=17.3.0 in c:\\users\\khiro\\anaconda3\\lib\\site-packages (from aiohttp->chat-exporter) (21.2.0)\n",
      "Requirement already satisfied: charset-normalizer<3.0,>=2.0 in c:\\users\\khiro\\anaconda3\\lib\\site-packages (from aiohttp->chat-exporter) (2.0.4)\n",
      "Requirement already satisfied: idna>=2.0 in c:\\users\\khiro\\anaconda3\\lib\\site-packages (from yarl<2.0,>=1.0->aiohttp->chat-exporter) (3.2)\n",
      "Note: you may need to restart the kernel to use updated packages.\n"
     ]
    }
   ],
   "source": [
    "pip install chat-exporter"
   ]
  },
  {
   "cell_type": "code",
   "execution_count": 25,
   "id": "fd75c366",
   "metadata": {},
   "outputs": [
    {
     "name": "stdout",
     "output_type": "stream",
     "text": [
      "Requirement already satisfied: keras in c:\\users\\khiro\\anaconda3\\lib\\site-packages (2.9.0)\n",
      "Note: you may need to restart the kernel to use updated packages.\n"
     ]
    }
   ],
   "source": [
    "pip install keras"
   ]
  },
  {
   "cell_type": "code",
   "execution_count": 26,
   "id": "d69a8507",
   "metadata": {},
   "outputs": [
    {
     "name": "stdout",
     "output_type": "stream",
     "text": [
      "^C\n",
      "Note: you may need to restart the kernel to use updated packages.\n"
     ]
    }
   ],
   "source": [
    "pip install tensorflow "
   ]
  },
  {
   "cell_type": "code",
   "execution_count": 1,
   "id": "42ecb2d3",
   "metadata": {},
   "outputs": [
    {
     "name": "stdout",
     "output_type": "stream",
     "text": [
      "Collecting dash-bootstrap-components\n",
      "  Downloading dash_bootstrap_components-1.1.0-py3-none-any.whl (210 kB)\n",
      "Requirement already satisfied: dash>=2.0.0 in c:\\users\\khiro\\anaconda3\\lib\\site-packages (from dash-bootstrap-components) (2.5.0)\n",
      "Requirement already satisfied: flask-compress in c:\\users\\khiro\\anaconda3\\lib\\site-packages (from dash>=2.0.0->dash-bootstrap-components) (1.12)\n",
      "Requirement already satisfied: dash-html-components==2.0.0 in c:\\users\\khiro\\anaconda3\\lib\\site-packages (from dash>=2.0.0->dash-bootstrap-components) (2.0.0)\n",
      "Requirement already satisfied: dash-core-components==2.0.0 in c:\\users\\khiro\\anaconda3\\lib\\site-packages (from dash>=2.0.0->dash-bootstrap-components) (2.0.0)\n",
      "Requirement already satisfied: Flask>=1.0.4 in c:\\users\\khiro\\anaconda3\\lib\\site-packages (from dash>=2.0.0->dash-bootstrap-components) (1.1.2)\n",
      "Requirement already satisfied: dash-table==5.0.0 in c:\\users\\khiro\\anaconda3\\lib\\site-packages (from dash>=2.0.0->dash-bootstrap-components) (5.0.0)\n",
      "Requirement already satisfied: plotly>=5.0.0 in c:\\users\\khiro\\anaconda3\\lib\\site-packages (from dash>=2.0.0->dash-bootstrap-components) (5.8.1)\n",
      "Requirement already satisfied: Werkzeug>=0.15 in c:\\users\\khiro\\anaconda3\\lib\\site-packages (from Flask>=1.0.4->dash>=2.0.0->dash-bootstrap-components) (2.0.2)\n",
      "Requirement already satisfied: itsdangerous>=0.24 in c:\\users\\khiro\\anaconda3\\lib\\site-packages (from Flask>=1.0.4->dash>=2.0.0->dash-bootstrap-components) (2.0.1)\n",
      "Requirement already satisfied: click>=5.1 in c:\\users\\khiro\\anaconda3\\lib\\site-packages (from Flask>=1.0.4->dash>=2.0.0->dash-bootstrap-components) (8.0.3)\n",
      "Requirement already satisfied: Jinja2>=2.10.1 in c:\\users\\khiro\\anaconda3\\lib\\site-packages (from Flask>=1.0.4->dash>=2.0.0->dash-bootstrap-components) (2.11.3)Note: you may need to restart the kernel to use updated packages.\n",
      "Requirement already satisfied: colorama in c:\\users\\khiro\\anaconda3\\lib\\site-packages (from click>=5.1->Flask>=1.0.4->dash>=2.0.0->dash-bootstrap-components) (0.4.4)\n",
      "Requirement already satisfied: MarkupSafe>=0.23 in c:\\users\\khiro\\anaconda3\\lib\\site-packages (from Jinja2>=2.10.1->Flask>=1.0.4->dash>=2.0.0->dash-bootstrap-components) (1.1.1)\n",
      "Requirement already satisfied: tenacity>=6.2.0 in c:\\users\\khiro\\anaconda3\\lib\\site-packages (from plotly>=5.0.0->dash>=2.0.0->dash-bootstrap-components) (8.0.1)\n",
      "\n",
      "Requirement already satisfied: brotli in c:\\users\\khiro\\anaconda3\\lib\\site-packages (from flask-compress->dash>=2.0.0->dash-bootstrap-components) (1.0.9)\n",
      "Installing collected packages: dash-bootstrap-components\n",
      "Successfully installed dash-bootstrap-components-1.1.0\n"
     ]
    }
   ],
   "source": [
    "pip install dash-bootstrap-components"
   ]
  },
  {
   "cell_type": "code",
   "execution_count": null,
   "id": "400ca64d",
   "metadata": {},
   "outputs": [],
   "source": []
  },
  {
   "cell_type": "code",
   "execution_count": null,
   "id": "d43cd9f8",
   "metadata": {},
   "outputs": [],
   "source": []
  },
  {
   "cell_type": "code",
   "execution_count": null,
   "id": "5a493981",
   "metadata": {},
   "outputs": [],
   "source": []
  },
  {
   "cell_type": "code",
   "execution_count": 7,
   "id": "947fcf81",
   "metadata": {},
   "outputs": [
    {
     "name": "stderr",
     "output_type": "stream",
     "text": [
      "[nltk_data] Error loading averaged_perceptron_tagger: <urlopen error\n",
      "[nltk_data]     [Errno 11001] getaddrinfo failed>\n"
     ]
    },
    {
     "data": {
      "text/plain": [
       "False"
      ]
     },
     "execution_count": 7,
     "metadata": {},
     "output_type": "execute_result"
    }
   ],
   "source": [
    "import nltk\n",
    "nltk.download('averaged_perceptron_tagger')"
   ]
  },
  {
   "cell_type": "code",
   "execution_count": 5,
   "id": "3e898318",
   "metadata": {},
   "outputs": [
    {
     "data": {
      "text/plain": [
       "['The', 'Fulton', 'County', 'Grand', 'Jury', 'said', ...]"
      ]
     },
     "execution_count": 5,
     "metadata": {},
     "output_type": "execute_result"
    }
   ],
   "source": [
    "from nltk.corpus import brown\n",
    "brown.words()"
   ]
  },
  {
   "cell_type": "code",
   "execution_count": 6,
   "id": "7a6681dc",
   "metadata": {},
   "outputs": [
    {
     "name": "stdout",
     "output_type": "stream",
     "text": [
      "showing info https://raw.githubusercontent.com/nltk/nltk_data/gh-pages/index.xml\n"
     ]
    },
    {
     "data": {
      "text/plain": [
       "True"
      ]
     },
     "execution_count": 6,
     "metadata": {},
     "output_type": "execute_result"
    }
   ],
   "source": [
    "nltk.set_proxy('http://proxy.example.com:3128', ('USERNAME', 'PASSWORD'))\n",
    "nltk.download()"
   ]
  },
  {
   "cell_type": "code",
   "execution_count": null,
   "id": "6b2d5687",
   "metadata": {},
   "outputs": [],
   "source": []
  }
 ],
 "metadata": {
  "kernelspec": {
   "display_name": "Python 3 (ipykernel)",
   "language": "python",
   "name": "python3"
  },
  "language_info": {
   "codemirror_mode": {
    "name": "ipython",
    "version": 3
   },
   "file_extension": ".py",
   "mimetype": "text/x-python",
   "name": "python",
   "nbconvert_exporter": "python",
   "pygments_lexer": "ipython3",
   "version": "3.9.7"
  }
 },
 "nbformat": 4,
 "nbformat_minor": 5
}
